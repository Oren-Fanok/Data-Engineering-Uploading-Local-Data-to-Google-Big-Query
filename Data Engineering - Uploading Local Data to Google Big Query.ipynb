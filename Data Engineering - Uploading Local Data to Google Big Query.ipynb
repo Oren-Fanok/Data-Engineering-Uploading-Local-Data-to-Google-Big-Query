{
 "cells": [
  {
   "cell_type": "markdown",
   "id": "25b450e8",
   "metadata": {},
   "source": [
    "## Dram Data Upload\n"
   ]
  },
  {
   "cell_type": "code",
   "execution_count": 1,
   "id": "d5d503d8",
   "metadata": {},
   "outputs": [],
   "source": [
    "import os\n",
    "import re\n",
    "import datetime \n",
    "\n",
    "import pandas as pd\n",
    "import numpy as np\n",
    "import pandas_gbq\n",
    "import janitor\n",
    "\n",
    "# Do our imports for the code\n",
    "from google.cloud import bigquery\n",
    "from google.oauth2 import service_account"
   ]
  },
  {
   "cell_type": "markdown",
   "id": "3813e659",
   "metadata": {},
   "source": [
    "### GBQ Set Up\n",
    "\n",
    "In this next section we connect to our GBQ project and list the data sets inside to test the connection."
   ]
  },
  {
   "cell_type": "code",
   "execution_count": 2,
   "id": "d825198a",
   "metadata": {},
   "outputs": [],
   "source": [
    "# These first two values will be different on your machine. \n",
    "service_path = \"\"  #change this to your file location\n",
    "service_file = '' # change this to your authentication information  \n",
    "gbq_proj_id = '' # change this to your project. \n",
    "\n",
    "# And this should stay the same. \n",
    "private_key =service_path + service_file"
   ]
  },
  {
   "cell_type": "code",
   "execution_count": 3,
   "id": "ca232504",
   "metadata": {},
   "outputs": [],
   "source": [
    "# Now we pass in our credentials so that Python has permission to access our project.\n",
    "credentials = service_account.Credentials.from_service_account_file(service_path + service_file)"
   ]
  },
  {
   "cell_type": "code",
   "execution_count": 4,
   "id": "c4a6d11c",
   "metadata": {},
   "outputs": [],
   "source": [
    "# And finally we establish our connection\n",
    "client = bigquery.Client(credentials = credentials, project=gbq_proj_id)"
   ]
  },
  {
   "cell_type": "code",
   "execution_count": 5,
   "id": "86fa696d",
   "metadata": {},
   "outputs": [
    {
     "name": "stdout",
     "output_type": "stream",
     "text": [
      "msba-project-2022:dram_shop\n",
      "msba-project-2022:wedge_dataset\n"
     ]
    }
   ],
   "source": [
    "for item in client.list_datasets() : \n",
    "    print(item.full_dataset_id)"
   ]
  },
  {
   "cell_type": "markdown",
   "id": "08e1e74c",
   "metadata": {},
   "source": [
    "### Checking for existing tables and deleting them\n",
    "\n",
    "To begin creating an idempotent data pipeline, we will check our Google Big Query project to see if the tables already exist. If they do we will delete them, so we do not upload duplicates.\n",
    "\n",
    " "
   ]
  },
  {
   "cell_type": "code",
   "execution_count": 6,
   "id": "eb93325a",
   "metadata": {},
   "outputs": [],
   "source": [
    "#creating our Regex search pattern\n",
    "\n",
    "ymd_pattern = re.compile(r\"(\\d{8})\")"
   ]
  },
  {
   "cell_type": "code",
   "execution_count": 7,
   "id": "933fceca",
   "metadata": {},
   "outputs": [],
   "source": [
    "dataset_id = \"dram_shop\""
   ]
  },
  {
   "cell_type": "code",
   "execution_count": 8,
   "id": "c6302800",
   "metadata": {},
   "outputs": [
    {
     "name": "stdout",
     "output_type": "stream",
     "text": [
      "Looking at Wedge Task 3 Table 1\n",
      "Looking at Wedge Task 3 Table 2\n",
      "Looking at Wedge Task 3 Table 3\n",
      "Looking at dram_items_20150101\n",
      "Looking at dram_items_20150301\n",
      "Looking at dram_items_20150401\n",
      "Looking at dram_items_20150501\n",
      "Looking at dram_items_20150601\n",
      "Looking at dram_items_20150701\n",
      "Looking at dram_items_20150801\n",
      "Looking at dram_items_20150901\n",
      "Looking at dram_items_20151001\n",
      "Looking at dram_items_20151101\n",
      "Looking at dram_items_20151201\n",
      "Looking at dram_items_20160101\n",
      "Looking at dram_items_20160201\n",
      "Looking at dram_items_20160301\n",
      "Looking at dram_items_20160401\n",
      "Looking at dram_items_20160501\n",
      "Looking at dram_items_20160601\n",
      "Looking at dram_items_20160701\n",
      "Looking at dram_items_20160801\n",
      "Looking at dram_items_20160901\n",
      "Looking at dram_items_20161001\n",
      "Looking at dram_items_20161101\n",
      "Looking at dram_items_20161201\n",
      "Looking at dram_items_20170101\n",
      "Looking at dram_items_20170201\n",
      "Looking at dram_items_20170301\n",
      "Looking at dram_items_20170401\n",
      "Looking at dram_items_20170501\n",
      "Looking at dram_items_20170601\n",
      "Looking at dram_items_20170701\n",
      "Looking at dram_items_20170801\n",
      "Looking at dram_items_20170901\n",
      "Looking at dram_items_20171001\n",
      "Looking at dram_items_20171101\n",
      "Looking at dram_items_20171201\n",
      "Looking at dram_items_20180101\n",
      "Looking at dram_items_20180201\n",
      "Looking at dram_items_20180301\n",
      "Looking at dram_items_20180401\n",
      "Looking at dram_items_20180501\n",
      "Looking at dram_items_20180601\n",
      "Looking at dram_items_20180701\n",
      "Looking at dram_items_20180801\n",
      "Looking at dram_items_20180901\n",
      "Looking at dram_items_20181001\n",
      "Looking at dram_items_20181101\n",
      "Looking at dram_items_20181201\n",
      "Looking at dram_items_20191001\n",
      "Looking at dram_items_20191101\n",
      "Looking at dram_items_20191201\n",
      "Looking at item-lookup\n"
     ]
    }
   ],
   "source": [
    "#Check for existing tables in GBQ\n",
    "\n",
    "tables = client.list_tables(dataset_id)  \n",
    "\n",
    "for table in tables:\n",
    "    \n",
    "    print(f'Looking at {table.table_id}')\n",
    "\n",
    "    \n"
   ]
  },
  {
   "cell_type": "code",
   "execution_count": 9,
   "id": "e146af53",
   "metadata": {},
   "outputs": [
    {
     "data": {
      "text/plain": [
       "'msba-project-2022:dram_shop.item-lookup'"
      ]
     },
     "execution_count": 9,
     "metadata": {},
     "output_type": "execute_result"
    }
   ],
   "source": [
    "table.full_table_id"
   ]
  },
  {
   "cell_type": "code",
   "execution_count": 10,
   "id": "918842df",
   "metadata": {},
   "outputs": [],
   "source": [
    "#test_table = \"dram_items_20150821\"\n",
    "#test_table = \"office_hours\"\n",
    "\n",
    "#ymd_pattern.search(test_table)"
   ]
  },
  {
   "cell_type": "code",
   "execution_count": 11,
   "id": "cdc76a5a",
   "metadata": {},
   "outputs": [
    {
     "name": "stdout",
     "output_type": "stream",
     "text": [
      "Deleted dram_items_20150101.\n",
      "Deleted dram_items_20150301.\n",
      "Deleted dram_items_20150401.\n",
      "Deleted dram_items_20150501.\n",
      "Deleted dram_items_20150601.\n",
      "Deleted dram_items_20150701.\n",
      "Deleted dram_items_20150801.\n",
      "Deleted dram_items_20150901.\n",
      "Deleted dram_items_20151001.\n",
      "Deleted dram_items_20151101.\n",
      "Deleted dram_items_20151201.\n",
      "Deleted dram_items_20160101.\n",
      "Deleted dram_items_20160201.\n",
      "Deleted dram_items_20160301.\n",
      "Deleted dram_items_20160401.\n",
      "Deleted dram_items_20160501.\n",
      "Deleted dram_items_20160601.\n",
      "Deleted dram_items_20160701.\n",
      "Deleted dram_items_20160801.\n",
      "Deleted dram_items_20160901.\n",
      "Deleted dram_items_20161001.\n",
      "Deleted dram_items_20161101.\n",
      "Deleted dram_items_20161201.\n",
      "Deleted dram_items_20170101.\n",
      "Deleted dram_items_20170201.\n",
      "Deleted dram_items_20170301.\n",
      "Deleted dram_items_20170401.\n",
      "Deleted dram_items_20170501.\n",
      "Deleted dram_items_20170601.\n",
      "Deleted dram_items_20170701.\n",
      "Deleted dram_items_20170801.\n",
      "Deleted dram_items_20170901.\n",
      "Deleted dram_items_20171001.\n",
      "Deleted dram_items_20171101.\n",
      "Deleted dram_items_20171201.\n",
      "Deleted dram_items_20180101.\n",
      "Deleted dram_items_20180201.\n",
      "Deleted dram_items_20180301.\n",
      "Deleted dram_items_20180401.\n",
      "Deleted dram_items_20180501.\n",
      "Deleted dram_items_20180601.\n",
      "Deleted dram_items_20180701.\n",
      "Deleted dram_items_20180801.\n",
      "Deleted dram_items_20180901.\n",
      "Deleted dram_items_20181001.\n",
      "Deleted dram_items_20181101.\n",
      "Deleted dram_items_20181201.\n",
      "Deleted dram_items_20191001.\n",
      "Deleted dram_items_20191101.\n",
      "Deleted dram_items_20191201.\n"
     ]
    }
   ],
   "source": [
    "#the next two lines create my table id in gbq format\n",
    "\n",
    "#these lines will delete the tables out of gbq if it exists\n",
    "for table in client.list_tables(dataset_id) :\n",
    "    if ymd_pattern.search(table.table_id) : \n",
    "        table_id = \".\".join([gbq_proj_id,dataset_id,table.table_id])\n",
    "        client.delete_table(table_id, not_found_ok=True)\n",
    "\n",
    "        print(f\"Deleted {table.table_id}.\")"
   ]
  },
  {
   "cell_type": "markdown",
   "id": "129b9631",
   "metadata": {},
   "source": [
    "### Reading in and uploading montly tables"
   ]
  },
  {
   "cell_type": "code",
   "execution_count": 12,
   "id": "c3abf281",
   "metadata": {},
   "outputs": [],
   "source": [
    "# Here's a function to transform the date column in a dataframe to \n",
    "# the YYYYMM01 format we'd like to use for subsetting.\n",
    "\n",
    "def reformat_date(date_string) :\n",
    "    date_string = datetime.datetime.strptime(date_string,\"%Y-%m-%d\")\n",
    "    return(datetime.date.strftime(date_string,\"%Y%m\")+\"01\")\n",
    "\n",
    "assert(reformat_date(\"2022-09-20\")==\"20220901\")\n",
    "assert(reformat_date(\"2000-10-20\")==\"20001001\")\n"
   ]
  },
  {
   "cell_type": "markdown",
   "id": "e2f6f45a",
   "metadata": {},
   "source": [
    "# Reading in Local Files"
   ]
  },
  {
   "cell_type": "code",
   "execution_count": 13,
   "id": "0a54dc09",
   "metadata": {
    "scrolled": true
   },
   "outputs": [
    {
     "name": "stdout",
     "output_type": "stream",
     "text": [
      "['items-2015-01-01-2016-01-01.csv', 'items-2016-01-01-2017-01-01.csv', 'items-2017-01-01-2018-01-01.csv', 'items-2018-01-01-2019-01-01.csv', 'items-2019-01-01-2020-01-01.csv', 'items-2020-01-01-2021-01-01.csv', 'items-2021-01-01-2022-01-01.csv', 'items-2022-01-01-2022-10-01.csv', 'items-2022-01-01-2023-01-01.csv']\n"
     ]
    }
   ],
   "source": [
    "#First let's get our files\n",
    "input_files = os.listdir('dram_items\\\\')\n",
    "print(input_files)"
   ]
  },
  {
   "cell_type": "markdown",
   "id": "2b11a6b5",
   "metadata": {},
   "source": [
    "Read in the local data files and store them to our df list."
   ]
  },
  {
   "cell_type": "code",
   "execution_count": 14,
   "id": "6715da6e",
   "metadata": {
    "scrolled": false
   },
   "outputs": [
    {
     "name": "stderr",
     "output_type": "stream",
     "text": [
      "C:\\Users\\ofano\\AppData\\Local\\Temp\\ipykernel_9020\\81214954.py:6: DtypeWarning: Columns (7) have mixed types. Specify dtype option on import or set low_memory=False.\n",
      "  df = pd.read_csv(file)\n",
      "C:\\Users\\ofano\\AppData\\Local\\Temp\\ipykernel_9020\\81214954.py:6: DtypeWarning: Columns (7) have mixed types. Specify dtype option on import or set low_memory=False.\n",
      "  df = pd.read_csv(file)\n",
      "C:\\Users\\ofano\\AppData\\Local\\Temp\\ipykernel_9020\\81214954.py:6: DtypeWarning: Columns (7) have mixed types. Specify dtype option on import or set low_memory=False.\n",
      "  df = pd.read_csv(file)\n",
      "C:\\Users\\ofano\\AppData\\Local\\Temp\\ipykernel_9020\\81214954.py:6: DtypeWarning: Columns (7) have mixed types. Specify dtype option on import or set low_memory=False.\n",
      "  df = pd.read_csv(file)\n",
      "C:\\Users\\ofano\\AppData\\Local\\Temp\\ipykernel_9020\\81214954.py:6: DtypeWarning: Columns (8) have mixed types. Specify dtype option on import or set low_memory=False.\n",
      "  df = pd.read_csv(file)\n",
      "C:\\Users\\ofano\\AppData\\Local\\Temp\\ipykernel_9020\\81214954.py:6: DtypeWarning: Columns (7) have mixed types. Specify dtype option on import or set low_memory=False.\n",
      "  df = pd.read_csv(file)\n",
      "C:\\Users\\ofano\\AppData\\Local\\Temp\\ipykernel_9020\\81214954.py:6: DtypeWarning: Columns (7) have mixed types. Specify dtype option on import or set low_memory=False.\n",
      "  df = pd.read_csv(file)\n",
      "C:\\Users\\ofano\\AppData\\Local\\Temp\\ipykernel_9020\\81214954.py:6: DtypeWarning: Columns (7) have mixed types. Specify dtype option on import or set low_memory=False.\n",
      "  df = pd.read_csv(file)\n"
     ]
    }
   ],
   "source": [
    "df_list = []\n",
    "\n",
    "for file in input_files :\n",
    "    df = pd.read_csv(file)\n",
    "    df_list.append(df) "
   ]
  },
  {
   "cell_type": "code",
   "execution_count": 15,
   "id": "6b55ebd5",
   "metadata": {},
   "outputs": [],
   "source": [
    "#type(df_list[0])\n",
    "#df_list[0].dtypes"
   ]
  },
  {
   "cell_type": "markdown",
   "id": "2fe57700",
   "metadata": {},
   "source": [
    "# Formatting our Dataframes"
   ]
  },
  {
   "cell_type": "code",
   "execution_count": 16,
   "id": "0cf4dd23",
   "metadata": {
    "scrolled": true
   },
   "outputs": [
    {
     "name": "stderr",
     "output_type": "stream",
     "text": [
      "C:\\Users\\ofano\\AppData\\Local\\Temp\\ipykernel_9020\\160286705.py:4: FutureWarning: The default value of regex will change from True to False in a future version. In addition, single character regular expressions will *not* be treated as literal strings when regex=True.\n",
      "  df['Gross Sales'] = df[\"Gross Sales\"].str.replace('$', '').str.replace(',','')\n",
      "C:\\Users\\ofano\\AppData\\Local\\Temp\\ipykernel_9020\\160286705.py:7: FutureWarning: The default value of regex will change from True to False in a future version. In addition, single character regular expressions will *not* be treated as literal strings when regex=True.\n",
      "  df['Discounts'] = df[\"Discounts\"].str.replace('$', '').str.replace(',','')\n",
      "C:\\Users\\ofano\\AppData\\Local\\Temp\\ipykernel_9020\\160286705.py:10: FutureWarning: The default value of regex will change from True to False in a future version. In addition, single character regular expressions will *not* be treated as literal strings when regex=True.\n",
      "  df['Net Sales'] = df[\"Net Sales\"].str.replace('$', '').str.replace(',','')\n",
      "C:\\Users\\ofano\\AppData\\Local\\Temp\\ipykernel_9020\\160286705.py:13: FutureWarning: The default value of regex will change from True to False in a future version. In addition, single character regular expressions will *not* be treated as literal strings when regex=True.\n",
      "  df['Tax'] = df[\"Tax\"].str.replace('$', '').str.replace(',','')\n"
     ]
    }
   ],
   "source": [
    "## format each df\n",
    "clean_dfs = []\n",
    "for df in df_list :\n",
    "    df['Gross Sales'] = df[\"Gross Sales\"].str.replace('$', '').str.replace(',','')\n",
    "    df['Gross Sales'] = pd.to_numeric(df['Gross Sales'])\n",
    "\n",
    "    df['Discounts'] = df[\"Discounts\"].str.replace('$', '').str.replace(',','')\n",
    "    df['Discounts'] = pd.to_numeric(df['Discounts'])\n",
    "\n",
    "    df['Net Sales'] = df[\"Net Sales\"].str.replace('$', '').str.replace(',','')\n",
    "    df['Net Sales'] = pd.to_numeric(df['Net Sales'])\n",
    "\n",
    "    df['Tax'] = df[\"Tax\"].str.replace('$', '').str.replace(',','')\n",
    "    df['Tax'] = pd.to_numeric(df['Tax'])\n",
    "\n",
    "    df['Modifiers Applied'] = df['Modifiers Applied'].astype('str')\n",
    "\n",
    "    df['SKU'] = df['SKU'].replace(np.nan, '', regex=True)\n",
    "\n",
    "    df = janitor.clean_names(df)\n",
    "    clean_dfs.append(df)"
   ]
  },
  {
   "cell_type": "markdown",
   "id": "59efcc84",
   "metadata": {},
   "source": [
    "# Uploading Formatted Dataframes to GBQ"
   ]
  },
  {
   "cell_type": "code",
   "execution_count": 17,
   "id": "38077a60",
   "metadata": {},
   "outputs": [],
   "source": [
    "## now iterate over the data frames and upload them\n",
    "\n",
    "for df in clean_dfs :\n",
    "    df[\"ym\"] = df[\"date\"].map(reformat_date)\n",
    "\n",
    "    ym_list = df['ym'].unique().tolist()\n",
    "    ym_list\n",
    "    break\n",
    "\n",
    "\n",
    "    for ym in ym_list:\n",
    "        \n",
    "        dram_items = df.query(f'ym == \"{ym}\"')\n",
    "        table_name = (f'dram_items_{ym}')\n",
    "        table_id = \".\".join([gbq_proj_id,dataset_id,table_name])\n",
    "        pandas_gbq.to_gbq(dram_items,table_id,project_id=gbq_proj_id,if_exists=\"replace\")\n",
    "        \n",
    "        \n"
   ]
  },
  {
   "cell_type": "markdown",
   "id": "023eaf35",
   "metadata": {},
   "source": [
    "### Querying the Results\n",
    "\n",
    "Here I'll write a query to return the number of records per month across all of the tables I previously uploaded into Google Big Query."
   ]
  },
  {
   "cell_type": "code",
   "execution_count": 40,
   "id": "69dc3f91",
   "metadata": {},
   "outputs": [
    {
     "name": "stderr",
     "output_type": "stream",
     "text": [
      "Downloading: 100%|██████████| 49/49 [00:00<00:00, 190.58rows/s]\n"
     ]
    }
   ],
   "source": [
    "query_1 = \"\"\"\n",
    "        SELECT ym as month,\n",
    "        count(date) as count \n",
    "        FROM `msba-project-2022.dram_shop.dram_items_20*`\n",
    "        GROUP BY ym\n",
    "        order BY ym ASC\"\"\"\n",
    "\n",
    "month_count = pandas_gbq.read_gbq(query_1,project_id = gbq_proj_id)"
   ]
  },
  {
   "cell_type": "code",
   "execution_count": 43,
   "id": "e2e0e506",
   "metadata": {},
   "outputs": [],
   "source": [
    "#month_count"
   ]
  },
  {
   "cell_type": "markdown",
   "id": "b5209be1",
   "metadata": {},
   "source": [
    "# Plotting the Results"
   ]
  },
  {
   "cell_type": "code",
   "execution_count": 42,
   "id": "ade71eb2",
   "metadata": {},
   "outputs": [
    {
     "data": {
      "text/plain": [
       "<AxesSubplot:xlabel='month'>"
      ]
     },
     "execution_count": 42,
     "metadata": {},
     "output_type": "execute_result"
    },
    {
     "data": {
      "image/png": "[encoded data removed]",
      "text/plain": [
       "<Figure size 432x288 with 1 Axes>"
      ]
     },
     "metadata": {
      "needs_background": "light"
     },
     "output_type": "display_data"
    }
   ],
   "source": [
    "month_count.plot(x='month', y='count', kind='bar')"
   ]
  }
 ],
 "metadata": {
  "kernelspec": {
   "display_name": "Python 3 (ipykernel)",
   "language": "python",
   "name": "python3"
  },
  "language_info": {
   "codemirror_mode": {
    "name": "ipython",
    "version": 3
   },
   "file_extension": ".py",
   "mimetype": "text/x-python",
   "name": "python",
   "nbconvert_exporter": "python",
   "pygments_lexer": "ipython3",
   "version": "3.9.13"
  }
 },
 "nbformat": 4,
 "nbformat_minor": 5
}
